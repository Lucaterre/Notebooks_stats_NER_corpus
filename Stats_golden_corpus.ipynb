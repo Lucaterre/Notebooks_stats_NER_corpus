{
 "cells": [
  {
   "cell_type": "markdown",
   "source": [
    "# Notebook to create simple statistics on a CONLL corpus (IOB)\n",
    "\n",
    "Version : python 3.7\n",
    "\n",
    "Last updated : 17/09/2021\n",
    "\n",
    "Author : Lucas Terriel"
   ],
   "metadata": {}
  },
  {
   "cell_type": "code",
   "execution_count": 1,
   "source": [
    "import os\n",
    "\n",
    "import matplotlib.pyplot as plt\n",
    "%matplotlib inline\n",
    "import pandas as pd\n",
    "from nltk.tree import Tree\n",
    "from nltk.chunk import conlltags2tree"
   ],
   "outputs": [],
   "metadata": {}
  },
  {
   "cell_type": "markdown",
   "source": [
    "### 1. Load the CONLL file (IOB format)\n",
    "\n",
    "*N.B : CONLL files were gathered into a single file using the command `$ cat *.connl >> all.conll`* "
   ],
   "metadata": {}
  },
  {
   "cell_type": "code",
   "execution_count": 2,
   "source": [
    "# Indiquer le chemin vers le fichier\n",
    "file_path = \"./datatest/sample/test/all.conll\"\n",
    "filename = os.path.basename(file_path)\n",
    "with open(file_path, \"r\", encoding=\"utf-8\") as f:\n",
    "    conll = f.read()"
   ],
   "outputs": [],
   "metadata": {}
  },
  {
   "cell_type": "markdown",
   "source": [
    "### 2. Retrieving the number of sentences, annotated sentences and creation of lists of tokens, annotated tokens and tags"
   ],
   "metadata": {}
  },
  {
   "cell_type": "code",
   "execution_count": 3,
   "source": [
    "sentences = 1\n",
    "sentences_annotated = 1\n",
    "tokens = []\n",
    "tags = []\n",
    "tokens_tagged = []\n",
    "# Intermediate list to test if the sentence contains annotated mentions.\n",
    "inter_sentences_annotated = []\n",
    "\n",
    "for row in conll.splitlines():\n",
    "    pair = row.split(\" \")\n",
    "    # If the length of the list is equal to 1, this means\n",
    "    # that we move on to a new sentence.\n",
    "    if len(pair) == 1:\n",
    "        sentences += 1\n",
    "        if len(inter_sentences_annotated) > 0:\n",
    "            sentences_annotated += 1\n",
    "            inter_sentences_annotated = []\n",
    "        else:\n",
    "            inter_sentences_annotated = []\n",
    "    else:\n",
    "        mention = pair[0]\n",
    "        ner_tag = pair[1]\n",
    "        tokens.append(mention)\n",
    "        tags.append(ner_tag)\n",
    "        if ner_tag != \"O\":\n",
    "            inter_sentences_annotated.append(ner_tag)\n",
    "            mention_tagged = mention\n",
    "            tokens_tagged.append(mention_tagged)"
   ],
   "outputs": [],
   "metadata": {}
  },
  {
   "cell_type": "markdown",
   "source": [
    "### 3. Creation of a dataframe to count the total of labels prefixed with the IOB scheme"
   ],
   "metadata": {}
  },
  {
   "cell_type": "code",
   "execution_count": 4,
   "source": [
    "iob_df = pd.DataFrame(tags, columns=['Label'])\n",
    "iob_df = iob_df.value_counts().to_frame('Total').reset_index()\n",
    "# Remove \"O\" Tags.\n",
    "iob_df = iob_df.loc[iob_df.Label.str.len()>2]\n",
    "# iob_df"
   ],
   "outputs": [],
   "metadata": {}
  },
  {
   "cell_type": "markdown",
   "source": [
    "### 4. Verification of token lists and IOB tags"
   ],
   "metadata": {}
  },
  {
   "cell_type": "code",
   "execution_count": 5,
   "source": [
    "print(tokens[0:20])\n",
    "print(tags[0:20])\n",
    "\n",
    "# sanity check\n",
    "assert len(tokens) == len(tags), 'length between tokens and tags is not the same.'"
   ],
   "outputs": [
    {
     "output_type": "stream",
     "name": "stdout",
     "text": [
      "['JJ', '/', '/', '226', '/', 'A', '465', 'Vincennes', '.', 'Confirmation', 'des', 'privilèges', 'de', 'la', \"villed'Aire\", '1', ',', 'au', 'bailliage', \"d'Amiens\"]\n",
      "['O', 'O', 'O', 'O', 'O', 'O', 'O', 'B-LOCATION', 'O', 'O', 'O', 'O', 'O', 'O', 'O', 'O', 'O', 'O', 'B-ORGANISATION', 'I-ORGANISATION']\n"
     ]
    }
   ],
   "metadata": {}
  },
  {
   "cell_type": "markdown",
   "source": [
    "### 4. Build NLTK tree to reconstruct the chunked entities in a single NER class\n",
    "\n",
    "Tutorial : [Jeril Kuriakose, *BIO / IOB Tagged Text to Original Text*, medium, 2019](https://medium.com/analytics-vidhya/bio-tagged-text-to-original-text-99b05da6664)"
   ],
   "metadata": {}
  },
  {
   "cell_type": "code",
   "execution_count": 6,
   "source": [
    "# We assume to set POS_TAGS with \"_\" value. By default, NLTK's CONLL Reader accepts three values ​​(Mention, POS, NER Tags)\n",
    "conlltags = [(token, \"_\", tg) for token, tg in zip(tokens, tags)]\n",
    "ne_tree = conlltags2tree(conlltags)"
   ],
   "outputs": [],
   "metadata": {}
  },
  {
   "cell_type": "code",
   "execution_count": 7,
   "source": [
    "original_text = []\n",
    "for subtree in ne_tree:\n",
    "    # Pass the \"O\" tags\n",
    "    if type(subtree) == Tree:\n",
    "        original_label = subtree.label()\n",
    "        original_string = \" \".join([token for token, _ in subtree.leaves()])\n",
    "        original_text.append((original_string, original_label))\n",
    "        \n",
    "print(original_text[0:10])"
   ],
   "outputs": [
    {
     "output_type": "stream",
     "name": "stdout",
     "text": [
      "[('Vincennes', 'LOCATION'), (\"bailliage d'Amiens\", 'ORGANISATION'), ('Aire-sur-la-Lys', 'LOCATION'), ('Pas-de-Calais', 'LOCATION'), ('arr . de Saint-Omer', 'LOCATION'), ('Paris', 'LOCATION'), ('Jean Le Douch , dit Mesgret', 'PERSON'), ('Herly', 'LOCATION'), (\"bailliage d'Amiens\", 'ORGANISATION'), (\"Martinot , d'Ambricourt\", 'PERSON')]\n"
     ]
    }
   ],
   "metadata": {}
  },
  {
   "cell_type": "markdown",
   "source": [
    "### 5. Creation of a dataframe to count the total of nonchunked labels"
   ],
   "metadata": {}
  },
  {
   "cell_type": "code",
   "execution_count": 8,
   "source": [
    "df_entities = pd.DataFrame(original_text, columns=['Mention', 'Label'])\n",
    "df_sum_labels = df_entities['Label'].value_counts().to_frame('Total').reset_index()\n",
    "df_sum_labels.rename(columns = {'index':'Label'}, inplace = True)\n",
    "total_entities = df_sum_labels['Total'].sum()\n",
    "\n",
    "# sanity check\n",
    "assert total_entities == len(original_text)"
   ],
   "outputs": [],
   "metadata": {}
  },
  {
   "cell_type": "markdown",
   "source": [
    "### 6. Visualization of all the results"
   ],
   "metadata": {}
  },
  {
   "cell_type": "code",
   "execution_count": 9,
   "source": [
    "from IPython.display import display_html \n",
    "\n",
    "print(f\"General statistics on the corpus : {filename} \")\n",
    "print(f\"|- Total number of sentences : {sentences}\")\n",
    "print(f\"|- Total number of tokens : {len(tokens)}\")\n",
    "print(f\"|- Total number of annotated sentences : {sentences_annotated}\")\n",
    "print(f\"|- Total number of annotated chunked tokens (IOB) : {len(tokens_tagged)}\")\n",
    "print(f\"|- total number of entities (IOB merge) : {len(original_text)}\")\n",
    "\n",
    "# Creation of containers for displaying dataframes side-by-side.\n",
    "df1_styler = iob_df.style.set_table_attributes(\"style='display:inline'\").set_caption(\"Total number of chunked labels\")\n",
    "df2_styler = df_sum_labels.style.set_table_attributes(\"style='display:inline'\").set_caption(\"Total number of entities per NER class\")\n",
    "\n",
    "# A single figure to plot the graphs next to each other\n",
    "fig, (ax1, ax2, ax3) = plt.subplots(1,3, figsize=(25,6))\n",
    "# Bar charts for labels\n",
    "df1_plot = iob_df.plot(kind='bar', x='Label', y='Total', ax=ax1)\n",
    "df2_plot = df_sum_labels.plot(kind='bar', x='Label', y='Total', ax=ax2)\n",
    "\n",
    "# Pie plot for the sentences\n",
    "percentage_annotated_sentences = sentences_annotated / sentences * 100\n",
    "percentage_non_annotated_sentences = (sentences - sentences_annotated) / sentences * 100\n",
    "sentences_values = [percentage_annotated_sentences, percentage_non_annotated_sentences]\n",
    "sentences_labels = ['annotated sentences', 'unannotated sentences']\n",
    "pie3 = ax3.pie(sentences_values,labels=sentences_labels, autopct='%1.1f%%')\n",
    "\n",
    "display_html(df1_styler._repr_html_()+df2_styler._repr_html_(), raw=True)\n",
    "plt.show()"
   ],
   "outputs": [
    {
     "output_type": "stream",
     "name": "stdout",
     "text": [
      "General statistics on the corpus : all.conll \n",
      "|- Total number of sentences : 106513\n",
      "|- Total number of tokens : 1393798\n",
      "|- Total number of annotated sentences : 850\n",
      "|- Total number of annotated chunked tokens (IOB) : 5368\n",
      "|- total number of entities (IOB merge) : 2256\n"
     ]
    },
    {
     "output_type": "display_data",
     "data": {
      "text/html": [
       "<style type=\"text/css\">\n",
       "</style>\n",
       "<table id=\"T_e8394_\" style='display:inline'>\n",
       "  <caption>Total number of chunked labels</caption>\n",
       "  <thead>\n",
       "    <tr>\n",
       "      <th class=\"blank level0\" >&nbsp;</th>\n",
       "      <th class=\"col_heading level0 col0\" >Label</th>\n",
       "      <th class=\"col_heading level0 col1\" >Total</th>\n",
       "    </tr>\n",
       "  </thead>\n",
       "  <tbody>\n",
       "    <tr>\n",
       "      <th id=\"T_e8394_level0_row0\" class=\"row_heading level0 row0\" >1</th>\n",
       "      <td id=\"T_e8394_row0_col0\" class=\"data row0 col0\" >B-LOCATION</td>\n",
       "      <td id=\"T_e8394_row0_col1\" class=\"data row0 col1\" >903</td>\n",
       "    </tr>\n",
       "    <tr>\n",
       "      <th id=\"T_e8394_level0_row1\" class=\"row_heading level0 row1\" >2</th>\n",
       "      <td id=\"T_e8394_row1_col0\" class=\"data row1 col0\" >I-ORGANISATION</td>\n",
       "      <td id=\"T_e8394_row1_col1\" class=\"data row1 col1\" >749</td>\n",
       "    </tr>\n",
       "    <tr>\n",
       "      <th id=\"T_e8394_level0_row2\" class=\"row_heading level0 row2\" >3</th>\n",
       "      <td id=\"T_e8394_row2_col0\" class=\"data row2 col0\" >I-PERSON</td>\n",
       "      <td id=\"T_e8394_row2_col1\" class=\"data row2 col1\" >705</td>\n",
       "    </tr>\n",
       "    <tr>\n",
       "      <th id=\"T_e8394_level0_row3\" class=\"row_heading level0 row3\" >4</th>\n",
       "      <td id=\"T_e8394_row3_col0\" class=\"data row3 col0\" >I-TITLE</td>\n",
       "      <td id=\"T_e8394_row3_col1\" class=\"data row3 col1\" >678</td>\n",
       "    </tr>\n",
       "    <tr>\n",
       "      <th id=\"T_e8394_level0_row4\" class=\"row_heading level0 row4\" >5</th>\n",
       "      <td id=\"T_e8394_row4_col0\" class=\"data row4 col0\" >I-LOCATION</td>\n",
       "      <td id=\"T_e8394_row4_col1\" class=\"data row4 col1\" >605</td>\n",
       "    </tr>\n",
       "    <tr>\n",
       "      <th id=\"T_e8394_level0_row5\" class=\"row_heading level0 row5\" >6</th>\n",
       "      <td id=\"T_e8394_row5_col0\" class=\"data row5 col0\" >B-PERSON</td>\n",
       "      <td id=\"T_e8394_row5_col1\" class=\"data row5 col1\" >490</td>\n",
       "    </tr>\n",
       "    <tr>\n",
       "      <th id=\"T_e8394_level0_row6\" class=\"row_heading level0 row6\" >7</th>\n",
       "      <td id=\"T_e8394_row6_col0\" class=\"data row6 col0\" >B-TITLE</td>\n",
       "      <td id=\"T_e8394_row6_col1\" class=\"data row6 col1\" >355</td>\n",
       "    </tr>\n",
       "    <tr>\n",
       "      <th id=\"T_e8394_level0_row7\" class=\"row_heading level0 row7\" >8</th>\n",
       "      <td id=\"T_e8394_row7_col0\" class=\"data row7 col0\" >B-ORGANISATION</td>\n",
       "      <td id=\"T_e8394_row7_col1\" class=\"data row7 col1\" >308</td>\n",
       "    </tr>\n",
       "    <tr>\n",
       "      <th id=\"T_e8394_level0_row8\" class=\"row_heading level0 row8\" >9</th>\n",
       "      <td id=\"T_e8394_row8_col0\" class=\"data row8 col0\" >I-INSTALLATION</td>\n",
       "      <td id=\"T_e8394_row8_col1\" class=\"data row8 col1\" >225</td>\n",
       "    </tr>\n",
       "    <tr>\n",
       "      <th id=\"T_e8394_level0_row9\" class=\"row_heading level0 row9\" >10</th>\n",
       "      <td id=\"T_e8394_row9_col0\" class=\"data row9 col0\" >I-EVENT</td>\n",
       "      <td id=\"T_e8394_row9_col1\" class=\"data row9 col1\" >186</td>\n",
       "    </tr>\n",
       "    <tr>\n",
       "      <th id=\"T_e8394_level0_row10\" class=\"row_heading level0 row10\" >11</th>\n",
       "      <td id=\"T_e8394_row10_col0\" class=\"data row10 col0\" >B-INSTALLATION</td>\n",
       "      <td id=\"T_e8394_row10_col1\" class=\"data row10 col1\" >93</td>\n",
       "    </tr>\n",
       "    <tr>\n",
       "      <th id=\"T_e8394_level0_row11\" class=\"row_heading level0 row11\" >12</th>\n",
       "      <td id=\"T_e8394_row11_col0\" class=\"data row11 col0\" >B-EVENT</td>\n",
       "      <td id=\"T_e8394_row11_col1\" class=\"data row11 col1\" >71</td>\n",
       "    </tr>\n",
       "  </tbody>\n",
       "</table>\n",
       "<style type=\"text/css\">\n",
       "</style>\n",
       "<table id=\"T_132fa_\" style='display:inline'>\n",
       "  <caption>Total number of entities per NER class</caption>\n",
       "  <thead>\n",
       "    <tr>\n",
       "      <th class=\"blank level0\" >&nbsp;</th>\n",
       "      <th class=\"col_heading level0 col0\" >Label</th>\n",
       "      <th class=\"col_heading level0 col1\" >Total</th>\n",
       "    </tr>\n",
       "  </thead>\n",
       "  <tbody>\n",
       "    <tr>\n",
       "      <th id=\"T_132fa_level0_row0\" class=\"row_heading level0 row0\" >0</th>\n",
       "      <td id=\"T_132fa_row0_col0\" class=\"data row0 col0\" >LOCATION</td>\n",
       "      <td id=\"T_132fa_row0_col1\" class=\"data row0 col1\" >903</td>\n",
       "    </tr>\n",
       "    <tr>\n",
       "      <th id=\"T_132fa_level0_row1\" class=\"row_heading level0 row1\" >1</th>\n",
       "      <td id=\"T_132fa_row1_col0\" class=\"data row1 col0\" >PERSON</td>\n",
       "      <td id=\"T_132fa_row1_col1\" class=\"data row1 col1\" >493</td>\n",
       "    </tr>\n",
       "    <tr>\n",
       "      <th id=\"T_132fa_level0_row2\" class=\"row_heading level0 row2\" >2</th>\n",
       "      <td id=\"T_132fa_row2_col0\" class=\"data row2 col0\" >TITLE</td>\n",
       "      <td id=\"T_132fa_row2_col1\" class=\"data row2 col1\" >364</td>\n",
       "    </tr>\n",
       "    <tr>\n",
       "      <th id=\"T_132fa_level0_row3\" class=\"row_heading level0 row3\" >3</th>\n",
       "      <td id=\"T_132fa_row3_col0\" class=\"data row3 col0\" >ORGANISATION</td>\n",
       "      <td id=\"T_132fa_row3_col1\" class=\"data row3 col1\" >327</td>\n",
       "    </tr>\n",
       "    <tr>\n",
       "      <th id=\"T_132fa_level0_row4\" class=\"row_heading level0 row4\" >4</th>\n",
       "      <td id=\"T_132fa_row4_col0\" class=\"data row4 col0\" >INSTALLATION</td>\n",
       "      <td id=\"T_132fa_row4_col1\" class=\"data row4 col1\" >96</td>\n",
       "    </tr>\n",
       "    <tr>\n",
       "      <th id=\"T_132fa_level0_row5\" class=\"row_heading level0 row5\" >5</th>\n",
       "      <td id=\"T_132fa_row5_col0\" class=\"data row5 col0\" >EVENT</td>\n",
       "      <td id=\"T_132fa_row5_col1\" class=\"data row5 col1\" >73</td>\n",
       "    </tr>\n",
       "  </tbody>\n",
       "</table>\n"
      ]
     },
     "metadata": {}
    },
    {
     "output_type": "display_data",
     "data": {
      "image/png": "[encoded data removed]",
      "text/plain": [
       "<Figure size 1800x432 with 3 Axes>"
      ]
     },
     "metadata": {
      "needs_background": "light"
     }
    }
   ],
   "metadata": {}
  }
 ],
 "metadata": {
  "orig_nbformat": 4,
  "language_info": {
   "name": "python",
   "version": "3.7.11",
   "mimetype": "text/x-python",
   "codemirror_mode": {
    "name": "ipython",
    "version": 3
   },
   "pygments_lexer": "ipython3",
   "nbconvert_exporter": "python",
   "file_extension": ".py"
  },
  "kernelspec": {
   "name": "python3",
   "display_name": "Python 3.7.11 64-bit ('ner_tests': conda)"
  },
  "interpreter": {
   "hash": "f77f8922e0c36d1f69ea3eb0540d24cd0553a3e4e3baed1e359cab9c78f80d68"
  }
 },
 "nbformat": 4,
 "nbformat_minor": 2
}